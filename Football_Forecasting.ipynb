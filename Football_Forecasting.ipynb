{
 "cells": [
  {
   "cell_type": "markdown",
   "id": "b76cad9c",
   "metadata": {},
   "source": [
    "# WDSC-Football Forecasting 2023"
   ]
  },
  {
   "cell_type": "markdown",
   "id": "d2ab9b42",
   "metadata": {},
   "source": [
    "# Importing libraries"
   ]
  },
  {
   "cell_type": "code",
   "execution_count": 1,
   "id": "f8ad18ac",
   "metadata": {},
   "outputs": [],
   "source": [
    "# Dependencies\n",
    "from scipy.stats import poisson \n",
    "from sklearn.metrics import r2_score, mean_squared_error\n",
    "import numpy as np\n",
    "import matplotlib\n",
    "import matplotlib.pyplot as plt \n",
    "import seaborn as sns\n",
    "import pandas as pd\n",
    "import statsmodels.api as sm\n",
    "import statsmodels.formula.api as smf"
   ]
  },
  {
   "cell_type": "markdown",
   "id": "accc9e96",
   "metadata": {},
   "source": [
    "# Gathering our data"
   ]
  },
  {
   "cell_type": "markdown",
   "id": "9653432e",
   "metadata": {},
   "source": [
    "# Data for the week calendar "
   ]
  },
  {
   "cell_type": "code",
   "execution_count": 2,
   "id": "94bced18",
   "metadata": {},
   "outputs": [],
   "source": [
    "calendar = pd.read_csv(\"./epl-2022-UTC.csv\", sep=\",\", encoding=\"utf-8\")"
   ]
  },
  {
   "cell_type": "code",
   "execution_count": 3,
   "id": "5c518343",
   "metadata": {},
   "outputs": [],
   "source": [
    "calendar = calendar[['Round Number','Date','Home Team','Away Team']].copy()\n",
    "calendar=calendar.fillna(0)\n",
    "calendar_week=calendar[calendar['Round Number']==28]"
   ]
  },
  {
   "cell_type": "code",
   "execution_count": 4,
   "id": "51ca1e40",
   "metadata": {},
   "outputs": [
    {
     "data": {
      "text/html": [
       "<div>\n",
       "<style scoped>\n",
       "    .dataframe tbody tr th:only-of-type {\n",
       "        vertical-align: middle;\n",
       "    }\n",
       "\n",
       "    .dataframe tbody tr th {\n",
       "        vertical-align: top;\n",
       "    }\n",
       "\n",
       "    .dataframe thead th {\n",
       "        text-align: right;\n",
       "    }\n",
       "</style>\n",
       "<table border=\"1\" class=\"dataframe\">\n",
       "  <thead>\n",
       "    <tr style=\"text-align: right;\">\n",
       "      <th></th>\n",
       "      <th>Round Number</th>\n",
       "      <th>Date</th>\n",
       "      <th>Home Team</th>\n",
       "      <th>Away Team</th>\n",
       "    </tr>\n",
       "  </thead>\n",
       "  <tbody>\n",
       "    <tr>\n",
       "      <th>270</th>\n",
       "      <td>28</td>\n",
       "      <td>18/03/2023 15:00</td>\n",
       "      <td>Arsenal</td>\n",
       "      <td>Crystal Palace</td>\n",
       "    </tr>\n",
       "    <tr>\n",
       "      <th>271</th>\n",
       "      <td>28</td>\n",
       "      <td>18/03/2023 15:00</td>\n",
       "      <td>Aston Villa</td>\n",
       "      <td>Bournemouth</td>\n",
       "    </tr>\n",
       "    <tr>\n",
       "      <th>272</th>\n",
       "      <td>28</td>\n",
       "      <td>18/03/2023 15:00</td>\n",
       "      <td>Brentford</td>\n",
       "      <td>Leicester</td>\n",
       "    </tr>\n",
       "    <tr>\n",
       "      <th>273</th>\n",
       "      <td>28</td>\n",
       "      <td>18/03/2023 15:00</td>\n",
       "      <td>Brighton</td>\n",
       "      <td>Man Utd</td>\n",
       "    </tr>\n",
       "    <tr>\n",
       "      <th>274</th>\n",
       "      <td>28</td>\n",
       "      <td>18/03/2023 15:00</td>\n",
       "      <td>Chelsea</td>\n",
       "      <td>Everton</td>\n",
       "    </tr>\n",
       "    <tr>\n",
       "      <th>275</th>\n",
       "      <td>28</td>\n",
       "      <td>18/03/2023 15:00</td>\n",
       "      <td>Liverpool</td>\n",
       "      <td>Fulham</td>\n",
       "    </tr>\n",
       "    <tr>\n",
       "      <th>276</th>\n",
       "      <td>28</td>\n",
       "      <td>18/03/2023 15:00</td>\n",
       "      <td>Man City</td>\n",
       "      <td>West Ham</td>\n",
       "    </tr>\n",
       "    <tr>\n",
       "      <th>277</th>\n",
       "      <td>28</td>\n",
       "      <td>18/03/2023 15:00</td>\n",
       "      <td>Nottingham Forest</td>\n",
       "      <td>Newcastle</td>\n",
       "    </tr>\n",
       "    <tr>\n",
       "      <th>278</th>\n",
       "      <td>28</td>\n",
       "      <td>18/03/2023 15:00</td>\n",
       "      <td>Southampton</td>\n",
       "      <td>Spurs</td>\n",
       "    </tr>\n",
       "    <tr>\n",
       "      <th>279</th>\n",
       "      <td>28</td>\n",
       "      <td>18/03/2023 15:00</td>\n",
       "      <td>Wolves</td>\n",
       "      <td>Leeds</td>\n",
       "    </tr>\n",
       "  </tbody>\n",
       "</table>\n",
       "</div>"
      ],
      "text/plain": [
       "     Round Number              Date          Home Team       Away Team\n",
       "270            28  18/03/2023 15:00            Arsenal  Crystal Palace\n",
       "271            28  18/03/2023 15:00        Aston Villa     Bournemouth\n",
       "272            28  18/03/2023 15:00          Brentford       Leicester\n",
       "273            28  18/03/2023 15:00           Brighton         Man Utd\n",
       "274            28  18/03/2023 15:00            Chelsea         Everton\n",
       "275            28  18/03/2023 15:00          Liverpool          Fulham\n",
       "276            28  18/03/2023 15:00           Man City        West Ham\n",
       "277            28  18/03/2023 15:00  Nottingham Forest       Newcastle\n",
       "278            28  18/03/2023 15:00        Southampton           Spurs\n",
       "279            28  18/03/2023 15:00             Wolves           Leeds"
      ]
     },
     "execution_count": 4,
     "metadata": {},
     "output_type": "execute_result"
    }
   ],
   "source": [
    "calendar_week"
   ]
  },
  {
   "cell_type": "code",
   "execution_count": 5,
   "id": "74fd34c1",
   "metadata": {},
   "outputs": [
    {
     "name": "stderr",
     "output_type": "stream",
     "text": [
      "/var/folders/lw/wf82f57x0rs9dlnjr6z3l0s80000gn/T/ipykernel_20748/3054149329.py:5: SettingWithCopyWarning: \n",
      "A value is trying to be set on a copy of a slice from a DataFrame.\n",
      "Try using .loc[row_indexer,col_indexer] = value instead\n",
      "\n",
      "See the caveats in the documentation: https://pandas.pydata.org/pandas-docs/stable/user_guide/indexing.html#returning-a-view-versus-a-copy\n",
      "  calendar_week.replace({'Home Team': dict}, inplace=True)\n",
      "/var/folders/lw/wf82f57x0rs9dlnjr6z3l0s80000gn/T/ipykernel_20748/3054149329.py:6: SettingWithCopyWarning: \n",
      "A value is trying to be set on a copy of a slice from a DataFrame.\n",
      "Try using .loc[row_indexer,col_indexer] = value instead\n",
      "\n",
      "See the caveats in the documentation: https://pandas.pydata.org/pandas-docs/stable/user_guide/indexing.html#returning-a-view-versus-a-copy\n",
      "  calendar_week.replace({'Away Team': dict}, inplace=True)\n"
     ]
    }
   ],
   "source": [
    "dict = {'Nottingham Forest': \"Nott'm Forest\",\n",
    "       'Man Utd': 'Man United',\n",
    "       'Spurs': 'Tottenham'}\n",
    "\n",
    "calendar_week.replace({'Home Team': dict}, inplace=True)\n",
    "calendar_week.replace({'Away Team': dict}, inplace=True)"
   ]
  },
  {
   "cell_type": "markdown",
   "id": "367cf847",
   "metadata": {},
   "source": [
    "# Data for our predictions "
   ]
  },
  {
   "cell_type": "code",
   "execution_count": 6,
   "id": "ab083add",
   "metadata": {
    "scrolled": true
   },
   "outputs": [
    {
     "data": {
      "text/html": [
       "<div>\n",
       "<style scoped>\n",
       "    .dataframe tbody tr th:only-of-type {\n",
       "        vertical-align: middle;\n",
       "    }\n",
       "\n",
       "    .dataframe tbody tr th {\n",
       "        vertical-align: top;\n",
       "    }\n",
       "\n",
       "    .dataframe thead th {\n",
       "        text-align: right;\n",
       "    }\n",
       "</style>\n",
       "<table border=\"1\" class=\"dataframe\">\n",
       "  <thead>\n",
       "    <tr style=\"text-align: right;\">\n",
       "      <th></th>\n",
       "      <th>Div</th>\n",
       "      <th>Date</th>\n",
       "      <th>Time</th>\n",
       "      <th>HomeTeam</th>\n",
       "      <th>AwayTeam</th>\n",
       "      <th>FTHG</th>\n",
       "      <th>FTAG</th>\n",
       "      <th>FTR</th>\n",
       "      <th>HTHG</th>\n",
       "      <th>HTAG</th>\n",
       "      <th>...</th>\n",
       "      <th>AvgC&lt;2.5</th>\n",
       "      <th>AHCh</th>\n",
       "      <th>B365CAHH</th>\n",
       "      <th>B365CAHA</th>\n",
       "      <th>PCAHH</th>\n",
       "      <th>PCAHA</th>\n",
       "      <th>MaxCAHH</th>\n",
       "      <th>MaxCAHA</th>\n",
       "      <th>AvgCAHH</th>\n",
       "      <th>AvgCAHA</th>\n",
       "    </tr>\n",
       "  </thead>\n",
       "  <tbody>\n",
       "    <tr>\n",
       "      <th>0</th>\n",
       "      <td>E0</td>\n",
       "      <td>13/08/2021</td>\n",
       "      <td>20:00</td>\n",
       "      <td>Brentford</td>\n",
       "      <td>Arsenal</td>\n",
       "      <td>2</td>\n",
       "      <td>0</td>\n",
       "      <td>H</td>\n",
       "      <td>1</td>\n",
       "      <td>0</td>\n",
       "      <td>...</td>\n",
       "      <td>1.62</td>\n",
       "      <td>0.50</td>\n",
       "      <td>1.75</td>\n",
       "      <td>2.05</td>\n",
       "      <td>1.81</td>\n",
       "      <td>2.13</td>\n",
       "      <td>2.05</td>\n",
       "      <td>2.17</td>\n",
       "      <td>1.80</td>\n",
       "      <td>2.09</td>\n",
       "    </tr>\n",
       "    <tr>\n",
       "      <th>1</th>\n",
       "      <td>E0</td>\n",
       "      <td>14/08/2021</td>\n",
       "      <td>12:30</td>\n",
       "      <td>Man United</td>\n",
       "      <td>Leeds</td>\n",
       "      <td>5</td>\n",
       "      <td>1</td>\n",
       "      <td>H</td>\n",
       "      <td>1</td>\n",
       "      <td>0</td>\n",
       "      <td>...</td>\n",
       "      <td>2.25</td>\n",
       "      <td>-1.00</td>\n",
       "      <td>2.05</td>\n",
       "      <td>1.75</td>\n",
       "      <td>2.17</td>\n",
       "      <td>1.77</td>\n",
       "      <td>2.19</td>\n",
       "      <td>1.93</td>\n",
       "      <td>2.10</td>\n",
       "      <td>1.79</td>\n",
       "    </tr>\n",
       "    <tr>\n",
       "      <th>2</th>\n",
       "      <td>E0</td>\n",
       "      <td>14/08/2021</td>\n",
       "      <td>15:00</td>\n",
       "      <td>Burnley</td>\n",
       "      <td>Brighton</td>\n",
       "      <td>1</td>\n",
       "      <td>2</td>\n",
       "      <td>A</td>\n",
       "      <td>1</td>\n",
       "      <td>0</td>\n",
       "      <td>...</td>\n",
       "      <td>1.62</td>\n",
       "      <td>0.25</td>\n",
       "      <td>1.79</td>\n",
       "      <td>2.15</td>\n",
       "      <td>1.81</td>\n",
       "      <td>2.14</td>\n",
       "      <td>1.82</td>\n",
       "      <td>2.19</td>\n",
       "      <td>1.79</td>\n",
       "      <td>2.12</td>\n",
       "    </tr>\n",
       "    <tr>\n",
       "      <th>3</th>\n",
       "      <td>E0</td>\n",
       "      <td>14/08/2021</td>\n",
       "      <td>15:00</td>\n",
       "      <td>Chelsea</td>\n",
       "      <td>Crystal Palace</td>\n",
       "      <td>3</td>\n",
       "      <td>0</td>\n",
       "      <td>H</td>\n",
       "      <td>2</td>\n",
       "      <td>0</td>\n",
       "      <td>...</td>\n",
       "      <td>1.94</td>\n",
       "      <td>-1.50</td>\n",
       "      <td>2.05</td>\n",
       "      <td>1.75</td>\n",
       "      <td>2.12</td>\n",
       "      <td>1.81</td>\n",
       "      <td>2.16</td>\n",
       "      <td>1.93</td>\n",
       "      <td>2.06</td>\n",
       "      <td>1.82</td>\n",
       "    </tr>\n",
       "    <tr>\n",
       "      <th>4</th>\n",
       "      <td>E0</td>\n",
       "      <td>14/08/2021</td>\n",
       "      <td>15:00</td>\n",
       "      <td>Everton</td>\n",
       "      <td>Southampton</td>\n",
       "      <td>3</td>\n",
       "      <td>1</td>\n",
       "      <td>H</td>\n",
       "      <td>0</td>\n",
       "      <td>1</td>\n",
       "      <td>...</td>\n",
       "      <td>1.67</td>\n",
       "      <td>-0.50</td>\n",
       "      <td>2.05</td>\n",
       "      <td>1.88</td>\n",
       "      <td>2.05</td>\n",
       "      <td>1.88</td>\n",
       "      <td>2.08</td>\n",
       "      <td>1.90</td>\n",
       "      <td>2.03</td>\n",
       "      <td>1.86</td>\n",
       "    </tr>\n",
       "    <tr>\n",
       "      <th>...</th>\n",
       "      <td>...</td>\n",
       "      <td>...</td>\n",
       "      <td>...</td>\n",
       "      <td>...</td>\n",
       "      <td>...</td>\n",
       "      <td>...</td>\n",
       "      <td>...</td>\n",
       "      <td>...</td>\n",
       "      <td>...</td>\n",
       "      <td>...</td>\n",
       "      <td>...</td>\n",
       "      <td>...</td>\n",
       "      <td>...</td>\n",
       "      <td>...</td>\n",
       "      <td>...</td>\n",
       "      <td>...</td>\n",
       "      <td>...</td>\n",
       "      <td>...</td>\n",
       "      <td>...</td>\n",
       "      <td>...</td>\n",
       "      <td>...</td>\n",
       "    </tr>\n",
       "    <tr>\n",
       "      <th>256</th>\n",
       "      <td>E0</td>\n",
       "      <td>11/03/2023</td>\n",
       "      <td>17:30</td>\n",
       "      <td>Crystal Palace</td>\n",
       "      <td>Man City</td>\n",
       "      <td>0</td>\n",
       "      <td>1</td>\n",
       "      <td>A</td>\n",
       "      <td>0</td>\n",
       "      <td>0</td>\n",
       "      <td>...</td>\n",
       "      <td>1.98</td>\n",
       "      <td>1.50</td>\n",
       "      <td>1.84</td>\n",
       "      <td>2.09</td>\n",
       "      <td>1.84</td>\n",
       "      <td>2.09</td>\n",
       "      <td>1.90</td>\n",
       "      <td>2.13</td>\n",
       "      <td>1.84</td>\n",
       "      <td>2.05</td>\n",
       "    </tr>\n",
       "    <tr>\n",
       "      <th>257</th>\n",
       "      <td>E0</td>\n",
       "      <td>12/03/2023</td>\n",
       "      <td>14:00</td>\n",
       "      <td>Fulham</td>\n",
       "      <td>Arsenal</td>\n",
       "      <td>0</td>\n",
       "      <td>3</td>\n",
       "      <td>A</td>\n",
       "      <td>0</td>\n",
       "      <td>3</td>\n",
       "      <td>...</td>\n",
       "      <td>2.10</td>\n",
       "      <td>1.25</td>\n",
       "      <td>1.97</td>\n",
       "      <td>1.96</td>\n",
       "      <td>1.96</td>\n",
       "      <td>1.96</td>\n",
       "      <td>1.97</td>\n",
       "      <td>2.05</td>\n",
       "      <td>1.90</td>\n",
       "      <td>1.97</td>\n",
       "    </tr>\n",
       "    <tr>\n",
       "      <th>258</th>\n",
       "      <td>E0</td>\n",
       "      <td>12/03/2023</td>\n",
       "      <td>14:00</td>\n",
       "      <td>Man United</td>\n",
       "      <td>Southampton</td>\n",
       "      <td>0</td>\n",
       "      <td>0</td>\n",
       "      <td>D</td>\n",
       "      <td>0</td>\n",
       "      <td>0</td>\n",
       "      <td>...</td>\n",
       "      <td>2.61</td>\n",
       "      <td>-1.75</td>\n",
       "      <td>1.99</td>\n",
       "      <td>1.94</td>\n",
       "      <td>2.04</td>\n",
       "      <td>1.88</td>\n",
       "      <td>2.04</td>\n",
       "      <td>1.95</td>\n",
       "      <td>1.98</td>\n",
       "      <td>1.90</td>\n",
       "    </tr>\n",
       "    <tr>\n",
       "      <th>259</th>\n",
       "      <td>E0</td>\n",
       "      <td>12/03/2023</td>\n",
       "      <td>14:00</td>\n",
       "      <td>West Ham</td>\n",
       "      <td>Aston Villa</td>\n",
       "      <td>1</td>\n",
       "      <td>1</td>\n",
       "      <td>D</td>\n",
       "      <td>1</td>\n",
       "      <td>1</td>\n",
       "      <td>...</td>\n",
       "      <td>1.73</td>\n",
       "      <td>-0.25</td>\n",
       "      <td>2.04</td>\n",
       "      <td>1.89</td>\n",
       "      <td>2.06</td>\n",
       "      <td>1.88</td>\n",
       "      <td>2.06</td>\n",
       "      <td>1.97</td>\n",
       "      <td>1.99</td>\n",
       "      <td>1.89</td>\n",
       "    </tr>\n",
       "    <tr>\n",
       "      <th>260</th>\n",
       "      <td>E0</td>\n",
       "      <td>12/03/2023</td>\n",
       "      <td>16:30</td>\n",
       "      <td>Newcastle</td>\n",
       "      <td>Wolves</td>\n",
       "      <td>2</td>\n",
       "      <td>1</td>\n",
       "      <td>H</td>\n",
       "      <td>1</td>\n",
       "      <td>0</td>\n",
       "      <td>...</td>\n",
       "      <td>1.73</td>\n",
       "      <td>-0.75</td>\n",
       "      <td>1.82</td>\n",
       "      <td>2.11</td>\n",
       "      <td>1.85</td>\n",
       "      <td>2.09</td>\n",
       "      <td>1.85</td>\n",
       "      <td>2.13</td>\n",
       "      <td>1.82</td>\n",
       "      <td>2.07</td>\n",
       "    </tr>\n",
       "  </tbody>\n",
       "</table>\n",
       "<p>1021 rows × 106 columns</p>\n",
       "</div>"
      ],
      "text/plain": [
       "    Div        Date   Time        HomeTeam        AwayTeam  FTHG  FTAG FTR  \\\n",
       "0    E0  13/08/2021  20:00       Brentford         Arsenal     2     0   H   \n",
       "1    E0  14/08/2021  12:30      Man United           Leeds     5     1   H   \n",
       "2    E0  14/08/2021  15:00         Burnley        Brighton     1     2   A   \n",
       "3    E0  14/08/2021  15:00         Chelsea  Crystal Palace     3     0   H   \n",
       "4    E0  14/08/2021  15:00         Everton     Southampton     3     1   H   \n",
       "..   ..         ...    ...             ...             ...   ...   ...  ..   \n",
       "256  E0  11/03/2023  17:30  Crystal Palace        Man City     0     1   A   \n",
       "257  E0  12/03/2023  14:00          Fulham         Arsenal     0     3   A   \n",
       "258  E0  12/03/2023  14:00      Man United     Southampton     0     0   D   \n",
       "259  E0  12/03/2023  14:00        West Ham     Aston Villa     1     1   D   \n",
       "260  E0  12/03/2023  16:30       Newcastle          Wolves     2     1   H   \n",
       "\n",
       "     HTHG  HTAG  ... AvgC<2.5  AHCh  B365CAHH  B365CAHA  PCAHH  PCAHA  \\\n",
       "0       1     0  ...     1.62  0.50      1.75      2.05   1.81   2.13   \n",
       "1       1     0  ...     2.25 -1.00      2.05      1.75   2.17   1.77   \n",
       "2       1     0  ...     1.62  0.25      1.79      2.15   1.81   2.14   \n",
       "3       2     0  ...     1.94 -1.50      2.05      1.75   2.12   1.81   \n",
       "4       0     1  ...     1.67 -0.50      2.05      1.88   2.05   1.88   \n",
       "..    ...   ...  ...      ...   ...       ...       ...    ...    ...   \n",
       "256     0     0  ...     1.98  1.50      1.84      2.09   1.84   2.09   \n",
       "257     0     3  ...     2.10  1.25      1.97      1.96   1.96   1.96   \n",
       "258     0     0  ...     2.61 -1.75      1.99      1.94   2.04   1.88   \n",
       "259     1     1  ...     1.73 -0.25      2.04      1.89   2.06   1.88   \n",
       "260     1     0  ...     1.73 -0.75      1.82      2.11   1.85   2.09   \n",
       "\n",
       "     MaxCAHH  MaxCAHA  AvgCAHH  AvgCAHA  \n",
       "0       2.05     2.17     1.80     2.09  \n",
       "1       2.19     1.93     2.10     1.79  \n",
       "2       1.82     2.19     1.79     2.12  \n",
       "3       2.16     1.93     2.06     1.82  \n",
       "4       2.08     1.90     2.03     1.86  \n",
       "..       ...      ...      ...      ...  \n",
       "256     1.90     2.13     1.84     2.05  \n",
       "257     1.97     2.05     1.90     1.97  \n",
       "258     2.04     1.95     1.98     1.90  \n",
       "259     2.06     1.97     1.99     1.89  \n",
       "260     1.85     2.13     1.82     2.07  \n",
       "\n",
       "[1021 rows x 106 columns]"
      ]
     },
     "execution_count": 6,
     "metadata": {},
     "output_type": "execute_result"
    }
   ],
   "source": [
    "#Taking all data from the last five years excluding 2020\n",
    "\n",
    "# Get data from the 2018/2019 season\n",
    "data1819 = pd.read_csv(\"https://www.football-data.co.uk/mmz4281/2122/E0.csv\", sep=',', engine='python',quoting=3) \n",
    "\n",
    "# Get data from the 2021/2022 season\n",
    "data2122 = pd.read_csv(\"https://www.football-data.co.uk/mmz4281/2122/E0.csv\", sep=',', engine='python',quoting=3) \n",
    "\n",
    "# Get data from the 2022/2023 season\n",
    "data2223 = pd.read_csv(\"https://www.football-data.co.uk/mmz4281/2223/E0.csv\", sep=',', engine='python',quoting=3) \n",
    "\n",
    "frames = [data1819, data2122, data2223]\n",
    "  \n",
    "data = pd.concat(frames)\n",
    "data"
   ]
  },
  {
   "cell_type": "code",
   "execution_count": 7,
   "id": "79e8d711",
   "metadata": {},
   "outputs": [
    {
     "data": {
      "text/plain": [
       "array(['Brentford', 'Man United', 'Burnley', 'Chelsea', 'Everton',\n",
       "       'Leicester', 'Watford', 'Norwich', 'Newcastle', 'Tottenham',\n",
       "       'Liverpool', 'Aston Villa', 'Crystal Palace', 'Leeds', 'Man City',\n",
       "       'Brighton', 'Southampton', 'Wolves', 'Arsenal', 'West Ham',\n",
       "       'Fulham', 'Bournemouth', \"Nott'm Forest\"], dtype=object)"
      ]
     },
     "execution_count": 7,
     "metadata": {},
     "output_type": "execute_result"
    }
   ],
   "source": [
    "data.HomeTeam.unique()"
   ]
  },
  {
   "cell_type": "markdown",
   "id": "b379de17",
   "metadata": {},
   "source": [
    "# Light Cleaning"
   ]
  },
  {
   "cell_type": "code",
   "execution_count": 8,
   "id": "300cd124",
   "metadata": {},
   "outputs": [],
   "source": [
    "# Filtering columns of interest\n",
    "columns = [\"HomeTeam\", \"AwayTeam\", \"FTHG\", \"FTAG\", \"FTR\"]\n",
    "data = data[columns]\n",
    "\n",
    "# Renaming columns\n",
    "data = data.rename(\n",
    "    columns={\"FTHG\": \"HomeGoals\", \"FTAG\": \"AwayGoals\", \"FTR\": \"Result\"}\n",
    ")"
   ]
  },
  {
   "cell_type": "code",
   "execution_count": 9,
   "id": "e65e31e4",
   "metadata": {
    "scrolled": true
   },
   "outputs": [
    {
     "data": {
      "text/html": [
       "<div>\n",
       "<style scoped>\n",
       "    .dataframe tbody tr th:only-of-type {\n",
       "        vertical-align: middle;\n",
       "    }\n",
       "\n",
       "    .dataframe tbody tr th {\n",
       "        vertical-align: top;\n",
       "    }\n",
       "\n",
       "    .dataframe thead th {\n",
       "        text-align: right;\n",
       "    }\n",
       "</style>\n",
       "<table border=\"1\" class=\"dataframe\">\n",
       "  <thead>\n",
       "    <tr style=\"text-align: right;\">\n",
       "      <th></th>\n",
       "      <th>HomeTeam</th>\n",
       "      <th>AwayTeam</th>\n",
       "      <th>HomeGoals</th>\n",
       "      <th>AwayGoals</th>\n",
       "      <th>Result</th>\n",
       "    </tr>\n",
       "  </thead>\n",
       "  <tbody>\n",
       "    <tr>\n",
       "      <th>0</th>\n",
       "      <td>Brentford</td>\n",
       "      <td>Arsenal</td>\n",
       "      <td>2</td>\n",
       "      <td>0</td>\n",
       "      <td>H</td>\n",
       "    </tr>\n",
       "    <tr>\n",
       "      <th>1</th>\n",
       "      <td>Man United</td>\n",
       "      <td>Leeds</td>\n",
       "      <td>5</td>\n",
       "      <td>1</td>\n",
       "      <td>H</td>\n",
       "    </tr>\n",
       "    <tr>\n",
       "      <th>2</th>\n",
       "      <td>Burnley</td>\n",
       "      <td>Brighton</td>\n",
       "      <td>1</td>\n",
       "      <td>2</td>\n",
       "      <td>A</td>\n",
       "    </tr>\n",
       "    <tr>\n",
       "      <th>3</th>\n",
       "      <td>Chelsea</td>\n",
       "      <td>Crystal Palace</td>\n",
       "      <td>3</td>\n",
       "      <td>0</td>\n",
       "      <td>H</td>\n",
       "    </tr>\n",
       "    <tr>\n",
       "      <th>4</th>\n",
       "      <td>Everton</td>\n",
       "      <td>Southampton</td>\n",
       "      <td>3</td>\n",
       "      <td>1</td>\n",
       "      <td>H</td>\n",
       "    </tr>\n",
       "  </tbody>\n",
       "</table>\n",
       "</div>"
      ],
      "text/plain": [
       "     HomeTeam        AwayTeam  HomeGoals  AwayGoals Result\n",
       "0   Brentford         Arsenal          2          0      H\n",
       "1  Man United           Leeds          5          1      H\n",
       "2     Burnley        Brighton          1          2      A\n",
       "3     Chelsea  Crystal Palace          3          0      H\n",
       "4     Everton     Southampton          3          1      H"
      ]
     },
     "execution_count": 9,
     "metadata": {},
     "output_type": "execute_result"
    }
   ],
   "source": [
    "# Remove final week of fixtures\n",
    "data[:-10]\n",
    "data.head()"
   ]
  },
  {
   "cell_type": "markdown",
   "id": "24818496",
   "metadata": {},
   "source": [
    "# Understanding our dataset"
   ]
  },
  {
   "cell_type": "code",
   "execution_count": 10,
   "id": "05e24f32",
   "metadata": {},
   "outputs": [
    {
     "data": {
      "text/plain": [
       "Text(0.5, 1.0, 'Number of Goals Scored Per Match')"
      ]
     },
     "execution_count": 10,
     "metadata": {},
     "output_type": "execute_result"
    },
    {
     "data": {
      "image/png": "[encoded data removed]",
      "text/plain": [
       "<Figure size 640x480 with 1 Axes>"
      ]
     },
     "metadata": {},
     "output_type": "display_data"
    }
   ],
   "source": [
    "import matplotlib.pyplot as plt\n",
    "import seaborn as sns\n",
    "\n",
    "sns.set()\n",
    "\n",
    "max_goals = 10\n",
    "plt.hist(\n",
    "    data[[\"HomeGoals\", \"AwayGoals\"]].values, range(max_goals), label=[\"Home\", \"Away\"], density=True\n",
    ")\n",
    "plt.xticks([i - 0.5 for i in range(max_goals)], [i for i in range(max_goals)])\n",
    "plt.xlabel(\"Goals\")\n",
    "plt.ylabel(\"Proportion of matches\")\n",
    "plt.legend(loc=\"upper right\", fontsize=13)\n",
    "plt.title(\"Number of Goals Scored Per Match\", size=14, fontweight=\"bold\")"
   ]
  },
  {
   "cell_type": "markdown",
   "id": "e2b5de9f",
   "metadata": {},
   "source": [
    "# Home Team Avantage"
   ]
  },
  {
   "cell_type": "code",
   "execution_count": 11,
   "id": "8d90d150",
   "metadata": {},
   "outputs": [
    {
     "data": {
      "text/plain": [
       "HomeGoals    1.531832\n",
       "AwayGoals    1.255632\n",
       "dtype: float64"
      ]
     },
     "execution_count": 11,
     "metadata": {},
     "output_type": "execute_result"
    }
   ],
   "source": [
    "# Compute the average number of home and away goals \n",
    "data[['HomeGoals', 'AwayGoals']].mean()"
   ]
  },
  {
   "cell_type": "markdown",
   "id": "f7f0d5eb",
   "metadata": {},
   "source": [
    "# Towards a match prediction model "
   ]
  },
  {
   "cell_type": "raw",
   "id": "6af95a3b",
   "metadata": {},
   "source": [
    "#The poisson regression"
   ]
  },
  {
   "cell_type": "code",
   "execution_count": 12,
   "id": "0b470503",
   "metadata": {},
   "outputs": [
    {
     "data": {
      "image/png": "[encoded data removed]",
      "text/plain": [
       "<Figure size 640x480 with 1 Axes>"
      ]
     },
     "metadata": {},
     "output_type": "display_data"
    }
   ],
   "source": [
    "# Here we simulate 1 million samples from a Poisson distribution with a mean of two\n",
    "x = np.random.poisson(2, 1000000)\n",
    "plt.hist(x, 14, density=True)\n",
    "plt.show()"
   ]
  },
  {
   "cell_type": "code",
   "execution_count": 13,
   "id": "12f4ee0f",
   "metadata": {},
   "outputs": [],
   "source": [
    "#### PREPARE THE DATASET ####\n",
    "\n",
    "# Separate home goals data\n",
    "home_goals = data[[\"HomeTeam\", \"AwayTeam\", \"HomeGoals\"]]\n",
    "home_goals = home_goals.assign(home=1)\n",
    "home_goals = home_goals.rename(\n",
    "    columns={\"HomeTeam\": \"team\",\n",
    "             \"AwayTeam\": \"opponent\", \n",
    "             \"HomeGoals\": \"goals\"}\n",
    ")\n",
    "\n",
    "# Separate away goals data \n",
    "\n",
    "# Separate home goals data\n",
    "away_goals = data[[\"AwayTeam\", \"HomeTeam\", \"AwayGoals\"]]\n",
    "away_goals = away_goals.assign(home=0)\n",
    "away_goals = away_goals.rename(\n",
    "    columns={\"AwayTeam\": \"team\",\n",
    "             \"HomeTeam\": \"opponent\", \n",
    "             \"AwayGoals\": \"goals\"}\n",
    ")"
   ]
  },
  {
   "cell_type": "code",
   "execution_count": 14,
   "id": "50a004d2",
   "metadata": {},
   "outputs": [
    {
     "data": {
      "text/html": [
       "<div>\n",
       "<style scoped>\n",
       "    .dataframe tbody tr th:only-of-type {\n",
       "        vertical-align: middle;\n",
       "    }\n",
       "\n",
       "    .dataframe tbody tr th {\n",
       "        vertical-align: top;\n",
       "    }\n",
       "\n",
       "    .dataframe thead th {\n",
       "        text-align: right;\n",
       "    }\n",
       "</style>\n",
       "<table border=\"1\" class=\"dataframe\">\n",
       "  <thead>\n",
       "    <tr style=\"text-align: right;\">\n",
       "      <th></th>\n",
       "      <th>team</th>\n",
       "      <th>opponent</th>\n",
       "      <th>goals</th>\n",
       "      <th>home</th>\n",
       "    </tr>\n",
       "  </thead>\n",
       "  <tbody>\n",
       "    <tr>\n",
       "      <th>0</th>\n",
       "      <td>Brentford</td>\n",
       "      <td>Arsenal</td>\n",
       "      <td>2</td>\n",
       "      <td>1</td>\n",
       "    </tr>\n",
       "    <tr>\n",
       "      <th>1</th>\n",
       "      <td>Man United</td>\n",
       "      <td>Leeds</td>\n",
       "      <td>5</td>\n",
       "      <td>1</td>\n",
       "    </tr>\n",
       "    <tr>\n",
       "      <th>2</th>\n",
       "      <td>Burnley</td>\n",
       "      <td>Brighton</td>\n",
       "      <td>1</td>\n",
       "      <td>1</td>\n",
       "    </tr>\n",
       "    <tr>\n",
       "      <th>3</th>\n",
       "      <td>Chelsea</td>\n",
       "      <td>Crystal Palace</td>\n",
       "      <td>3</td>\n",
       "      <td>1</td>\n",
       "    </tr>\n",
       "    <tr>\n",
       "      <th>4</th>\n",
       "      <td>Everton</td>\n",
       "      <td>Southampton</td>\n",
       "      <td>3</td>\n",
       "      <td>1</td>\n",
       "    </tr>\n",
       "  </tbody>\n",
       "</table>\n",
       "</div>"
      ],
      "text/plain": [
       "         team        opponent  goals  home\n",
       "0   Brentford         Arsenal      2     1\n",
       "1  Man United           Leeds      5     1\n",
       "2     Burnley        Brighton      1     1\n",
       "3     Chelsea  Crystal Palace      3     1\n",
       "4     Everton     Southampton      3     1"
      ]
     },
     "execution_count": 14,
     "metadata": {},
     "output_type": "execute_result"
    }
   ],
   "source": [
    "# Concatenating into training data \n",
    "training_data = pd.concat([home_goals, away_goals])\n",
    "training_data.head()"
   ]
  },
  {
   "cell_type": "markdown",
   "id": "e7ec8294",
   "metadata": {},
   "source": [
    "# Build the model"
   ]
  },
  {
   "cell_type": "code",
   "execution_count": 15,
   "id": "6504c9b4",
   "metadata": {},
   "outputs": [],
   "source": [
    "# Building the model\n",
    "# Poisson Regression: log-linear model\n",
    "poisson_model = smf.glm(\n",
    "    formula=\"goals ~ home + team + opponent\",\n",
    "    data=training_data,\n",
    "    family=sm.families.Poisson() \n",
    ").fit()"
   ]
  },
  {
   "cell_type": "code",
   "execution_count": 16,
   "id": "26faf638",
   "metadata": {},
   "outputs": [
    {
     "data": {
      "text/html": [
       "<table class=\"simpletable\">\n",
       "<caption>Generalized Linear Model Regression Results</caption>\n",
       "<tr>\n",
       "  <th>Dep. Variable:</th>         <td>goals</td>      <th>  No. Observations:  </th>  <td>  2042</td> \n",
       "</tr>\n",
       "<tr>\n",
       "  <th>Model:</th>                  <td>GLM</td>       <th>  Df Residuals:      </th>  <td>  1996</td> \n",
       "</tr>\n",
       "<tr>\n",
       "  <th>Model Family:</th>         <td>Poisson</td>     <th>  Df Model:          </th>  <td>    45</td> \n",
       "</tr>\n",
       "<tr>\n",
       "  <th>Link Function:</th>          <td>Log</td>       <th>  Scale:             </th> <td>  1.0000</td>\n",
       "</tr>\n",
       "<tr>\n",
       "  <th>Method:</th>                <td>IRLS</td>       <th>  Log-Likelihood:    </th> <td> -2920.4</td>\n",
       "</tr>\n",
       "<tr>\n",
       "  <th>Date:</th>            <td>Wed, 15 Mar 2023</td> <th>  Deviance:          </th> <td>  2230.8</td>\n",
       "</tr>\n",
       "<tr>\n",
       "  <th>Time:</th>                <td>09:46:39</td>     <th>  Pearson chi2:      </th> <td>1.93e+03</td>\n",
       "</tr>\n",
       "<tr>\n",
       "  <th>No. Iterations:</th>          <td>5</td>        <th>  Pseudo R-squ. (CS):</th>  <td>0.2222</td> \n",
       "</tr>\n",
       "<tr>\n",
       "  <th>Covariance Type:</th>     <td>nonrobust</td>    <th>                     </th>     <td> </td>   \n",
       "</tr>\n",
       "</table>\n",
       "<table class=\"simpletable\">\n",
       "<tr>\n",
       "               <td></td>                 <th>coef</th>     <th>std err</th>      <th>z</th>      <th>P>|z|</th>  <th>[0.025</th>    <th>0.975]</th>  \n",
       "</tr>\n",
       "<tr>\n",
       "  <th>Intercept</th>                  <td>    0.3109</td> <td>    0.120</td> <td>    2.580</td> <td> 0.010</td> <td>    0.075</td> <td>    0.547</td>\n",
       "</tr>\n",
       "<tr>\n",
       "  <th>team[T.Aston Villa]</th>        <td>   -0.2794</td> <td>    0.113</td> <td>   -2.465</td> <td> 0.014</td> <td>   -0.502</td> <td>   -0.057</td>\n",
       "</tr>\n",
       "<tr>\n",
       "  <th>team[T.Bournemouth]</th>        <td>   -0.5472</td> <td>    0.214</td> <td>   -2.558</td> <td> 0.011</td> <td>   -0.966</td> <td>   -0.128</td>\n",
       "</tr>\n",
       "<tr>\n",
       "  <th>team[T.Brentford]</th>          <td>   -0.2757</td> <td>    0.113</td> <td>   -2.433</td> <td> 0.015</td> <td>   -0.498</td> <td>   -0.054</td>\n",
       "</tr>\n",
       "<tr>\n",
       "  <th>team[T.Brighton]</th>           <td>   -0.3233</td> <td>    0.115</td> <td>   -2.812</td> <td> 0.005</td> <td>   -0.549</td> <td>   -0.098</td>\n",
       "</tr>\n",
       "<tr>\n",
       "  <th>team[T.Burnley]</th>            <td>   -0.6856</td> <td>    0.142</td> <td>   -4.823</td> <td> 0.000</td> <td>   -0.964</td> <td>   -0.407</td>\n",
       "</tr>\n",
       "<tr>\n",
       "  <th>team[T.Chelsea]</th>            <td>   -0.0253</td> <td>    0.105</td> <td>   -0.240</td> <td> 0.810</td> <td>   -0.231</td> <td>    0.181</td>\n",
       "</tr>\n",
       "<tr>\n",
       "  <th>team[T.Crystal Palace]</th>     <td>   -0.3955</td> <td>    0.117</td> <td>   -3.375</td> <td> 0.001</td> <td>   -0.625</td> <td>   -0.166</td>\n",
       "</tr>\n",
       "<tr>\n",
       "  <th>team[T.Everton]</th>            <td>   -0.5360</td> <td>    0.122</td> <td>   -4.386</td> <td> 0.000</td> <td>   -0.775</td> <td>   -0.296</td>\n",
       "</tr>\n",
       "<tr>\n",
       "  <th>team[T.Fulham]</th>             <td>   -0.1928</td> <td>    0.179</td> <td>   -1.077</td> <td> 0.281</td> <td>   -0.544</td> <td>    0.158</td>\n",
       "</tr>\n",
       "<tr>\n",
       "  <th>team[T.Leeds]</th>              <td>   -0.4291</td> <td>    0.119</td> <td>   -3.604</td> <td> 0.000</td> <td>   -0.662</td> <td>   -0.196</td>\n",
       "</tr>\n",
       "<tr>\n",
       "  <th>team[T.Leicester]</th>          <td>   -0.1013</td> <td>    0.108</td> <td>   -0.936</td> <td> 0.349</td> <td>   -0.313</td> <td>    0.111</td>\n",
       "</tr>\n",
       "<tr>\n",
       "  <th>team[T.Liverpool]</th>          <td>    0.2450</td> <td>    0.099</td> <td>    2.485</td> <td> 0.013</td> <td>    0.052</td> <td>    0.438</td>\n",
       "</tr>\n",
       "<tr>\n",
       "  <th>team[T.Man City]</th>           <td>    0.3538</td> <td>    0.096</td> <td>    3.681</td> <td> 0.000</td> <td>    0.165</td> <td>    0.542</td>\n",
       "</tr>\n",
       "<tr>\n",
       "  <th>team[T.Man United]</th>         <td>   -0.1458</td> <td>    0.109</td> <td>   -1.334</td> <td> 0.182</td> <td>   -0.360</td> <td>    0.068</td>\n",
       "</tr>\n",
       "<tr>\n",
       "  <th>team[T.Newcastle]</th>          <td>   -0.3492</td> <td>    0.116</td> <td>   -3.008</td> <td> 0.003</td> <td>   -0.577</td> <td>   -0.122</td>\n",
       "</tr>\n",
       "<tr>\n",
       "  <th>team[T.Norwich]</th>            <td>   -1.0465</td> <td>    0.165</td> <td>   -6.339</td> <td> 0.000</td> <td>   -1.370</td> <td>   -0.723</td>\n",
       "</tr>\n",
       "<tr>\n",
       "  <th>team[T.Nott'm Forest]</th>      <td>   -0.7587</td> <td>    0.231</td> <td>   -3.284</td> <td> 0.001</td> <td>   -1.211</td> <td>   -0.306</td>\n",
       "</tr>\n",
       "<tr>\n",
       "  <th>team[T.Southampton]</th>        <td>   -0.5216</td> <td>    0.122</td> <td>   -4.271</td> <td> 0.000</td> <td>   -0.761</td> <td>   -0.282</td>\n",
       "</tr>\n",
       "<tr>\n",
       "  <th>team[T.Tottenham]</th>          <td>    0.0248</td> <td>    0.104</td> <td>    0.238</td> <td> 0.812</td> <td>   -0.179</td> <td>    0.229</td>\n",
       "</tr>\n",
       "<tr>\n",
       "  <th>team[T.Watford]</th>            <td>   -0.6617</td> <td>    0.142</td> <td>   -4.654</td> <td> 0.000</td> <td>   -0.940</td> <td>   -0.383</td>\n",
       "</tr>\n",
       "<tr>\n",
       "  <th>team[T.West Ham]</th>           <td>   -0.2218</td> <td>    0.111</td> <td>   -1.990</td> <td> 0.047</td> <td>   -0.440</td> <td>   -0.003</td>\n",
       "</tr>\n",
       "<tr>\n",
       "  <th>team[T.Wolves]</th>             <td>   -0.6414</td> <td>    0.126</td> <td>   -5.089</td> <td> 0.000</td> <td>   -0.888</td> <td>   -0.394</td>\n",
       "</tr>\n",
       "<tr>\n",
       "  <th>opponent[T.Aston Villa]</th>    <td>    0.1871</td> <td>    0.123</td> <td>    1.521</td> <td> 0.128</td> <td>   -0.054</td> <td>    0.428</td>\n",
       "</tr>\n",
       "<tr>\n",
       "  <th>opponent[T.Bournemouth]</th>    <td>    0.4372</td> <td>    0.168</td> <td>    2.609</td> <td> 0.009</td> <td>    0.109</td> <td>    0.766</td>\n",
       "</tr>\n",
       "<tr>\n",
       "  <th>opponent[T.Brentford]</th>      <td>    0.1912</td> <td>    0.123</td> <td>    1.550</td> <td> 0.121</td> <td>   -0.051</td> <td>    0.433</td>\n",
       "</tr>\n",
       "<tr>\n",
       "  <th>opponent[T.Brighton]</th>       <td>   -0.0115</td> <td>    0.129</td> <td>   -0.089</td> <td> 0.929</td> <td>   -0.265</td> <td>    0.242</td>\n",
       "</tr>\n",
       "<tr>\n",
       "  <th>opponent[T.Burnley]</th>        <td>    0.1457</td> <td>    0.133</td> <td>    1.093</td> <td> 0.274</td> <td>   -0.116</td> <td>    0.407</td>\n",
       "</tr>\n",
       "<tr>\n",
       "  <th>opponent[T.Chelsea]</th>        <td>   -0.2670</td> <td>    0.139</td> <td>   -1.928</td> <td> 0.054</td> <td>   -0.538</td> <td>    0.004</td>\n",
       "</tr>\n",
       "<tr>\n",
       "  <th>opponent[T.Crystal Palace]</th> <td>    0.0084</td> <td>    0.128</td> <td>    0.066</td> <td> 0.948</td> <td>   -0.242</td> <td>    0.259</td>\n",
       "</tr>\n",
       "<tr>\n",
       "  <th>opponent[T.Everton]</th>        <td>    0.3137</td> <td>    0.119</td> <td>    2.632</td> <td> 0.008</td> <td>    0.080</td> <td>    0.547</td>\n",
       "</tr>\n",
       "<tr>\n",
       "  <th>opponent[T.Fulham]</th>         <td>    0.1290</td> <td>    0.188</td> <td>    0.685</td> <td> 0.494</td> <td>   -0.240</td> <td>    0.498</td>\n",
       "</tr>\n",
       "<tr>\n",
       "  <th>opponent[T.Leeds]</th>          <td>    0.4932</td> <td>    0.115</td> <td>    4.275</td> <td> 0.000</td> <td>    0.267</td> <td>    0.719</td>\n",
       "</tr>\n",
       "<tr>\n",
       "  <th>opponent[T.Leicester]</th>      <td>    0.3061</td> <td>    0.120</td> <td>    2.548</td> <td> 0.011</td> <td>    0.071</td> <td>    0.542</td>\n",
       "</tr>\n",
       "<tr>\n",
       "  <th>opponent[T.Liverpool]</th>      <td>   -0.3627</td> <td>    0.144</td> <td>   -2.523</td> <td> 0.012</td> <td>   -0.644</td> <td>   -0.081</td>\n",
       "</tr>\n",
       "<tr>\n",
       "  <th>opponent[T.Man City]</th>       <td>   -0.4194</td> <td>    0.146</td> <td>   -2.873</td> <td> 0.004</td> <td>   -0.706</td> <td>   -0.133</td>\n",
       "</tr>\n",
       "<tr>\n",
       "  <th>opponent[T.Man United]</th>     <td>    0.1961</td> <td>    0.123</td> <td>    1.598</td> <td> 0.110</td> <td>   -0.044</td> <td>    0.436</td>\n",
       "</tr>\n",
       "<tr>\n",
       "  <th>opponent[T.Newcastle]</th>      <td>    0.1532</td> <td>    0.124</td> <td>    1.237</td> <td> 0.216</td> <td>   -0.090</td> <td>    0.396</td>\n",
       "</tr>\n",
       "<tr>\n",
       "  <th>opponent[T.Norwich]</th>        <td>    0.5962</td> <td>    0.119</td> <td>    4.990</td> <td> 0.000</td> <td>    0.362</td> <td>    0.830</td>\n",
       "</tr>\n",
       "<tr>\n",
       "  <th>opponent[T.Nott'm Forest]</th>  <td>    0.3558</td> <td>    0.173</td> <td>    2.062</td> <td> 0.039</td> <td>    0.018</td> <td>    0.694</td>\n",
       "</tr>\n",
       "<tr>\n",
       "  <th>opponent[T.Southampton]</th>    <td>    0.3524</td> <td>    0.118</td> <td>    2.976</td> <td> 0.003</td> <td>    0.120</td> <td>    0.584</td>\n",
       "</tr>\n",
       "<tr>\n",
       "  <th>opponent[T.Tottenham]</th>      <td>   -0.0393</td> <td>    0.130</td> <td>   -0.303</td> <td> 0.762</td> <td>   -0.294</td> <td>    0.215</td>\n",
       "</tr>\n",
       "<tr>\n",
       "  <th>opponent[T.Watford]</th>        <td>    0.5200</td> <td>    0.122</td> <td>    4.272</td> <td> 0.000</td> <td>    0.281</td> <td>    0.759</td>\n",
       "</tr>\n",
       "<tr>\n",
       "  <th>opponent[T.West Ham]</th>       <td>    0.1193</td> <td>    0.125</td> <td>    0.953</td> <td> 0.340</td> <td>   -0.126</td> <td>    0.365</td>\n",
       "</tr>\n",
       "<tr>\n",
       "  <th>opponent[T.Wolves]</th>         <td>   -0.0253</td> <td>    0.128</td> <td>   -0.197</td> <td> 0.844</td> <td>   -0.277</td> <td>    0.226</td>\n",
       "</tr>\n",
       "<tr>\n",
       "  <th>home</th>                       <td>    0.2001</td> <td>    0.038</td> <td>    5.310</td> <td> 0.000</td> <td>    0.126</td> <td>    0.274</td>\n",
       "</tr>\n",
       "</table>"
      ],
      "text/plain": [
       "<class 'statsmodels.iolib.summary.Summary'>\n",
       "\"\"\"\n",
       "                 Generalized Linear Model Regression Results                  \n",
       "==============================================================================\n",
       "Dep. Variable:                  goals   No. Observations:                 2042\n",
       "Model:                            GLM   Df Residuals:                     1996\n",
       "Model Family:                 Poisson   Df Model:                           45\n",
       "Link Function:                    Log   Scale:                          1.0000\n",
       "Method:                          IRLS   Log-Likelihood:                -2920.4\n",
       "Date:                Wed, 15 Mar 2023   Deviance:                       2230.8\n",
       "Time:                        09:46:39   Pearson chi2:                 1.93e+03\n",
       "No. Iterations:                     5   Pseudo R-squ. (CS):             0.2222\n",
       "Covariance Type:            nonrobust                                         \n",
       "==============================================================================================\n",
       "                                 coef    std err          z      P>|z|      [0.025      0.975]\n",
       "----------------------------------------------------------------------------------------------\n",
       "Intercept                      0.3109      0.120      2.580      0.010       0.075       0.547\n",
       "team[T.Aston Villa]           -0.2794      0.113     -2.465      0.014      -0.502      -0.057\n",
       "team[T.Bournemouth]           -0.5472      0.214     -2.558      0.011      -0.966      -0.128\n",
       "team[T.Brentford]             -0.2757      0.113     -2.433      0.015      -0.498      -0.054\n",
       "team[T.Brighton]              -0.3233      0.115     -2.812      0.005      -0.549      -0.098\n",
       "team[T.Burnley]               -0.6856      0.142     -4.823      0.000      -0.964      -0.407\n",
       "team[T.Chelsea]               -0.0253      0.105     -0.240      0.810      -0.231       0.181\n",
       "team[T.Crystal Palace]        -0.3955      0.117     -3.375      0.001      -0.625      -0.166\n",
       "team[T.Everton]               -0.5360      0.122     -4.386      0.000      -0.775      -0.296\n",
       "team[T.Fulham]                -0.1928      0.179     -1.077      0.281      -0.544       0.158\n",
       "team[T.Leeds]                 -0.4291      0.119     -3.604      0.000      -0.662      -0.196\n",
       "team[T.Leicester]             -0.1013      0.108     -0.936      0.349      -0.313       0.111\n",
       "team[T.Liverpool]              0.2450      0.099      2.485      0.013       0.052       0.438\n",
       "team[T.Man City]               0.3538      0.096      3.681      0.000       0.165       0.542\n",
       "team[T.Man United]            -0.1458      0.109     -1.334      0.182      -0.360       0.068\n",
       "team[T.Newcastle]             -0.3492      0.116     -3.008      0.003      -0.577      -0.122\n",
       "team[T.Norwich]               -1.0465      0.165     -6.339      0.000      -1.370      -0.723\n",
       "team[T.Nott'm Forest]         -0.7587      0.231     -3.284      0.001      -1.211      -0.306\n",
       "team[T.Southampton]           -0.5216      0.122     -4.271      0.000      -0.761      -0.282\n",
       "team[T.Tottenham]              0.0248      0.104      0.238      0.812      -0.179       0.229\n",
       "team[T.Watford]               -0.6617      0.142     -4.654      0.000      -0.940      -0.383\n",
       "team[T.West Ham]              -0.2218      0.111     -1.990      0.047      -0.440      -0.003\n",
       "team[T.Wolves]                -0.6414      0.126     -5.089      0.000      -0.888      -0.394\n",
       "opponent[T.Aston Villa]        0.1871      0.123      1.521      0.128      -0.054       0.428\n",
       "opponent[T.Bournemouth]        0.4372      0.168      2.609      0.009       0.109       0.766\n",
       "opponent[T.Brentford]          0.1912      0.123      1.550      0.121      -0.051       0.433\n",
       "opponent[T.Brighton]          -0.0115      0.129     -0.089      0.929      -0.265       0.242\n",
       "opponent[T.Burnley]            0.1457      0.133      1.093      0.274      -0.116       0.407\n",
       "opponent[T.Chelsea]           -0.2670      0.139     -1.928      0.054      -0.538       0.004\n",
       "opponent[T.Crystal Palace]     0.0084      0.128      0.066      0.948      -0.242       0.259\n",
       "opponent[T.Everton]            0.3137      0.119      2.632      0.008       0.080       0.547\n",
       "opponent[T.Fulham]             0.1290      0.188      0.685      0.494      -0.240       0.498\n",
       "opponent[T.Leeds]              0.4932      0.115      4.275      0.000       0.267       0.719\n",
       "opponent[T.Leicester]          0.3061      0.120      2.548      0.011       0.071       0.542\n",
       "opponent[T.Liverpool]         -0.3627      0.144     -2.523      0.012      -0.644      -0.081\n",
       "opponent[T.Man City]          -0.4194      0.146     -2.873      0.004      -0.706      -0.133\n",
       "opponent[T.Man United]         0.1961      0.123      1.598      0.110      -0.044       0.436\n",
       "opponent[T.Newcastle]          0.1532      0.124      1.237      0.216      -0.090       0.396\n",
       "opponent[T.Norwich]            0.5962      0.119      4.990      0.000       0.362       0.830\n",
       "opponent[T.Nott'm Forest]      0.3558      0.173      2.062      0.039       0.018       0.694\n",
       "opponent[T.Southampton]        0.3524      0.118      2.976      0.003       0.120       0.584\n",
       "opponent[T.Tottenham]         -0.0393      0.130     -0.303      0.762      -0.294       0.215\n",
       "opponent[T.Watford]            0.5200      0.122      4.272      0.000       0.281       0.759\n",
       "opponent[T.West Ham]           0.1193      0.125      0.953      0.340      -0.126       0.365\n",
       "opponent[T.Wolves]            -0.0253      0.128     -0.197      0.844      -0.277       0.226\n",
       "home                           0.2001      0.038      5.310      0.000       0.126       0.274\n",
       "==============================================================================================\n",
       "\"\"\""
      ]
     },
     "execution_count": 16,
     "metadata": {},
     "output_type": "execute_result"
    }
   ],
   "source": [
    "poisson_model.summary()"
   ]
  },
  {
   "cell_type": "markdown",
   "id": "a1b3168f",
   "metadata": {},
   "source": [
    "# Computing the expected goals for each team"
   ]
  },
  {
   "cell_type": "code",
   "execution_count": 17,
   "id": "c359b91b",
   "metadata": {},
   "outputs": [],
   "source": [
    "# Create feature data for home and away team for the match\n",
    "def create_X(home_team, away_team):\n",
    "    X_home = pd.DataFrame(data={\"team\": home_team,\n",
    "                                \"opponent\": away_team,\n",
    "                                \"home\": 1\n",
    "                                }, index=[1])\n",
    "    \n",
    "    # Creating DataFrame for away team features\n",
    "    X_away = pd.DataFrame(data={\"team\": away_team,\n",
    "                                \"opponent\": home_team,\n",
    "                                \"home\": 0\n",
    "                                }, index=[1])\n",
    "    \n",
    "    return X_home, X_away"
   ]
  },
  {
   "cell_type": "code",
   "execution_count": 18,
   "id": "d3d938ec",
   "metadata": {},
   "outputs": [],
   "source": [
    "def predict_avg_goals(X_home, X_away, model):\n",
    "    # Predict the mean number of goals for home team\n",
    "    home_goals_avg = model.predict(X_home) \n",
    "    \n",
    "    # Predict the mean number of goals for away team\n",
    "    away_goals_avg = model.predict(X_away) \n",
    "    \n",
    "    return home_goals_avg, away_goals_avg"
   ]
  },
  {
   "cell_type": "code",
   "execution_count": 19,
   "id": "350d6032",
   "metadata": {},
   "outputs": [
    {
     "name": "stdout",
     "output_type": "stream",
     "text": [
      "Average Home Goals:  1.7220310969045303\n",
      "Average Away Goals:  0.6317518625725689\n"
     ]
    }
   ],
   "source": [
    "# Predicting average goals for Chelsea Man City match\n",
    "X_home, X_away =  create_X('Brighton', \"Nott'm Forest\")\n",
    "avg_goals = predict_avg_goals(X_home, X_away, poisson_model)\n",
    "print('Average Home Goals: ', avg_goals[0].values[0])\n",
    "\n",
    "# Fill in to print the average away goals\n",
    "print('Average Away Goals: ', avg_goals[1].values[0])"
   ]
  },
  {
   "cell_type": "markdown",
   "id": "7be49b91",
   "metadata": {},
   "source": [
    "# Computing the distribution of match scores"
   ]
  },
  {
   "cell_type": "code",
   "execution_count": 20,
   "id": "a5ba56f2",
   "metadata": {},
   "outputs": [
    {
     "data": {
      "image/png": "[encoded data removed]",
      "text/plain": [
       "<Figure size 800x600 with 2 Axes>"
      ]
     },
     "metadata": {},
     "output_type": "display_data"
    }
   ],
   "source": [
    "# Funciton to forecast a given match\n",
    "# Probability Mass Function\n",
    "def predict_score_pmf(X_home, X_away, model, max_goals):\n",
    "    \n",
    "    # Predict the average number of goals for home  and away teams\n",
    "    avg_goals = predict_avg_goals(X_home, X_away, model)\n",
    "    home_goals_avg = avg_goals[0]\n",
    "    away_goals_avg = avg_goals[1]\n",
    "\n",
    "    # Compute marginal distribution for home goals\n",
    "    home_goals_pmf = [poisson.pmf(i, home_goals_avg)\n",
    "                      for i in range(0, max_goals + 1)]\n",
    "\n",
    "    # Compute marginal distribution for away goals \n",
    "    away_goals_pmf = [poisson.pmf(i, away_goals_avg)\n",
    "                      for i in range(0, max_goals + 1)]\n",
    "\n",
    "    # Compute joint distribution for match score as outer product\n",
    "    joint_pmf = np.outer(np.array(home_goals_pmf),\n",
    "                         np.array(away_goals_pmf))\n",
    "    \n",
    "    return joint_pmf\n",
    "\n",
    "# Predicting distribution of match scores\n",
    "X_home, X_away =  create_X('Brighton', \"Nott'm Forest\")\n",
    "score_pmf = predict_score_pmf(X_home, X_away, poisson_model, 8)\n",
    "score_pmf = score_pmf.round(3)\n",
    "\n",
    "# Visualizing distribution in a heatmap\n",
    "f, axs = plt.subplots(figsize=(8, 6))\n",
    "sns.heatmap(score_pmf, annot=True)\n",
    "axs.xaxis.tick_top() # x axis on top\n",
    "axs.xaxis.set_label_position('top')\n",
    "plt.title(\"Chelsea v.s Man City score forecast\", y=1.12)\n",
    "plt.xlabel(\"Brighton goals\", labelpad=6)\n",
    "plt.ylabel(\"Nott'm Forest goals\")\n",
    "plt.show()"
   ]
  },
  {
   "cell_type": "markdown",
   "id": "f9580a7c",
   "metadata": {},
   "source": [
    "# Forecasting the distribution mode¶"
   ]
  },
  {
   "cell_type": "code",
   "execution_count": 21,
   "id": "b4d652d1",
   "metadata": {},
   "outputs": [],
   "source": [
    "def predict_score(X_home, X_away, model):\n",
    "    # Predicting distribution of match scores\n",
    "    score_pmf = predict_score_pmf(X_home, X_away, model,16)\n",
    "    score_pmf = score_pmf.round(3)\n",
    "    \n",
    "    # Computing distribution mode\n",
    "    home_goals_mode = np.argmax(score_pmf) // (17)\n",
    "    away_goals_mode = np.argmax(score_pmf) % (17)\n",
    "    score_pred = (home_goals_mode, away_goals_mode)\n",
    "    return score_pred"
   ]
  },
  {
   "cell_type": "code",
   "execution_count": 22,
   "id": "233c070e",
   "metadata": {},
   "outputs": [
    {
     "name": "stdout",
     "output_type": "stream",
     "text": [
      "1- Match predicted results:  Arsenal  and  Crystal Palace\n",
      "Score Forecast:  (1, 0)\n",
      "1- Match predicted results:  Aston Villa  and  Bournemouth\n",
      "Score Forecast:  (1, 0)\n",
      "1- Match predicted results:  Brentford  and  Leicester\n",
      "Score Forecast:  (1, 1)\n",
      "1- Match predicted results:  Brighton  and  Man United\n",
      "Score Forecast:  (1, 1)\n",
      "1- Match predicted results:  Chelsea  and  Everton\n",
      "Score Forecast:  (2, 0)\n",
      "1- Match predicted results:  Liverpool  and  Fulham\n",
      "Score Forecast:  (2, 0)\n",
      "1- Match predicted results:  Man City  and  West Ham\n",
      "Score Forecast:  (2, 0)\n",
      "1- Match predicted results:  Nott'm Forest  and  Newcastle\n",
      "Score Forecast:  (0, 1)\n",
      "1- Match predicted results:  Southampton  and  Tottenham\n",
      "Score Forecast:  (0, 1)\n",
      "1- Match predicted results:  Wolves  and  Leeds\n",
      "Score Forecast:  (1, 0)\n"
     ]
    }
   ],
   "source": [
    "for i in range(0, len(calendar_week)):\n",
    "    print (\"1- Match predicted results:  \"+ calendar_week['Home Team'].iloc[i]+\"  and  \"+ calendar_week['Away Team'].iloc[i])\n",
    "    X_home, X_away =  create_X(calendar_week['Home Team'].iloc[i],calendar_week['Away Team'].iloc[i])\n",
    "    score_pred =  predict_score(X_home, X_away, poisson_model)\n",
    "    print('Score Forecast: ', score_pred)\n",
    "    "
   ]
  },
  {
   "cell_type": "markdown",
   "id": "c055f4f9",
   "metadata": {},
   "source": [
    "# Accuracy of our predictions : Determining Weighting "
   ]
  },
  {
   "cell_type": "code",
   "execution_count": 26,
   "id": "4bcacafa",
   "metadata": {},
   "outputs": [],
   "source": [
    "def mse(y_true, ypred):\n",
    "    np.square(np.subtract(Y_true,Y_pred)).mean()"
   ]
  },
  {
   "cell_type": "code",
   "execution_count": 27,
   "id": "e1faceab",
   "metadata": {},
   "outputs": [
    {
     "ename": "NameError",
     "evalue": "name 'CatBoostRegressor' is not defined",
     "output_type": "error",
     "traceback": [
      "\u001b[0;31m---------------------------------------------------------------------------\u001b[0m",
      "\u001b[0;31mNameError\u001b[0m                                 Traceback (most recent call last)",
      "Cell \u001b[0;32mIn [27], line 1\u001b[0m\n\u001b[0;32m----> 1\u001b[0m model \u001b[38;5;241m=\u001b[39m \u001b[43mCatBoostRegressor\u001b[49m(objective\u001b[38;5;241m=\u001b[39m\u001b[38;5;124m'\u001b[39m\u001b[38;5;124mPoisson\u001b[39m\u001b[38;5;124m'\u001b[39m)\n\u001b[1;32m      3\u001b[0m model\u001b[38;5;241m.\u001b[39mfit(training_data, plot\u001b[38;5;241m=\u001b[39m\u001b[38;5;28;01mTrue\u001b[39;00m, eval_set\u001b[38;5;241m=\u001b[39mval_pool, verbose\u001b[38;5;241m=\u001b[39m\u001b[38;5;241m500\u001b[39m)\n\u001b[1;32m      5\u001b[0m actual_counts \u001b[38;5;241m=\u001b[39m df_test\u001b[38;5;241m.\u001b[39mfavorite_count\u001b[38;5;241m.\u001b[39mvalues\u001b[38;5;241m.\u001b[39mastype(\u001b[38;5;28mint\u001b[39m) \n",
      "\u001b[0;31mNameError\u001b[0m: name 'CatBoostRegressor' is not defined"
     ]
    }
   ],
   "source": [
    "model = CatBoostRegressor(objective='Poisson')\n",
    "\n",
    "model.fit(training_data, plot=True, eval_set=val_pool, verbose=500)\n",
    "\n",
    "actual_counts = df_test.favorite_count.values.astype(int) \n",
    "predicted_counts_poisson = model.predict(test_pool) * 100\n",
    "r2_poisson = r2_score(actual_counts, predicted_counts_poisson)\n",
    "rmse_score_poisson_model = np.sqrt(mean_squared_error(actual_counts, predicted_counts_poisson))\n",
    "print('R2 score: {:.3f}\\nRMSE score: {:.2f}'.format(r2_poisson, rmse_score_poisson_model))"
   ]
  },
  {
   "cell_type": "code",
   "execution_count": null,
   "id": "ee78aee1",
   "metadata": {},
   "outputs": [],
   "source": [
    "print(accuracy_score(ytest, model.predict(xtest)))"
   ]
  },
  {
   "cell_type": "code",
   "execution_count": null,
   "id": "a7c65795",
   "metadata": {
    "scrolled": true
   },
   "outputs": [],
   "source": [
    "accuracy = metrics.accuracy_score(y_test, preds)\n",
    "accuracy "
   ]
  },
  {
   "cell_type": "markdown",
   "id": "5f8621d4",
   "metadata": {},
   "source": [
    "# Webscrapping - team results of the previous weeks "
   ]
  },
  {
   "cell_type": "code",
   "execution_count": null,
   "id": "d99bce76",
   "metadata": {},
   "outputs": [],
   "source": [
    "#webscrapping - team results of the weeks \n",
    "import requests\n",
    "import pandas as pd\n",
    "from bs4 import BeautifulSoup"
   ]
  },
  {
   "cell_type": "code",
   "execution_count": null,
   "id": "dc1c55f7",
   "metadata": {},
   "outputs": [],
   "source": [
    "url = \"https://fixturedownload.com/results/epl-2022\"\n",
    "data = requests.get(url).text"
   ]
  },
  {
   "cell_type": "code",
   "execution_count": null,
   "id": "9981debe",
   "metadata": {},
   "outputs": [],
   "source": [
    "import requests\n",
    "import lxml.html as lh\n",
    "import pandas as pd\n",
    "\n",
    "url='https://fixturedownload.com/results/epl-2022'\n",
    "#Create a handle, page, to handle the contents of the website\n",
    "page = requests.get(url)\n",
    "#Store the contents of the website under doc\n",
    "doc = lh.fromstring(page.content)\n",
    "#Parse data that are stored between <tr>..</tr> of HTML\n",
    "tr_elements = doc.xpath('//tr')"
   ]
  },
  {
   "cell_type": "code",
   "execution_count": null,
   "id": "1d81f795",
   "metadata": {},
   "outputs": [],
   "source": [
    "tr_elements = doc.xpath('//tr')\n",
    "#Create empty list\n",
    "col=[]\n",
    "i=0\n",
    "#For each row, store each first element (header) and an empty list\n",
    "for t in tr_elements[0]:\n",
    "    i+=1\n",
    "    name=t.text_content()\n",
    "    print ('%d:\"%s\"'%(i,name))\n",
    "    col.append((name,[]))"
   ]
  },
  {
   "cell_type": "code",
   "execution_count": null,
   "id": "5afb8599",
   "metadata": {},
   "outputs": [],
   "source": [
    "#Since out first row is the header, data is stored on the second row onwards\n",
    "for j in range(1,len(tr_elements)):\n",
    "    #T is our j'th row\n",
    "    T=tr_elements[j]\n",
    "    \n",
    "    #If row is not of size 10, the //tr data is not from our table \n",
    "    if len(T)!=6:\n",
    "        break\n",
    "    \n",
    "    #i is the index of our column\n",
    "    i=0\n",
    "    \n",
    "    #Iterate through each element of the row\n",
    "    for t in T.iterchildren():\n",
    "        data=t.text_content() \n",
    "        #Check if row is empty\n",
    "        if i>0:\n",
    "        #Convert any numerical value to integers\n",
    "            try:\n",
    "                data=int(data)\n",
    "            except:\n",
    "                pass\n",
    "        #Append the data to the empty list of the i'th column\n",
    "        col[i][1].append(data)\n",
    "        #Increment i for the next column\n",
    "        i+=1\n"
   ]
  },
  {
   "cell_type": "code",
   "execution_count": null,
   "id": "d23bded2",
   "metadata": {},
   "outputs": [],
   "source": [
    "Dict={title:column for (title,column) in col}\n",
    "update_score=pd.DataFrame(Dict)"
   ]
  },
  {
   "cell_type": "code",
   "execution_count": null,
   "id": "390fe04a",
   "metadata": {},
   "outputs": [],
   "source": [
    "dict = {'Nottingham Forest': \"Nott'm Forest\",\n",
    "       'Man Utd': 'Man United',\n",
    "       'Spurs': 'Tottenham'}\n",
    "\n",
    "update_score.replace({'Home Team': dict}, inplace=True)\n",
    "update_score.replace({'Away Team': dict}, inplace=True)"
   ]
  },
  {
   "cell_type": "code",
   "execution_count": null,
   "id": "06ff138b",
   "metadata": {},
   "outputs": [],
   "source": [
    "update_score.head()"
   ]
  },
  {
   "cell_type": "code",
   "execution_count": null,
   "id": "71f1afd7",
   "metadata": {},
   "outputs": [],
   "source": [
    "for i in range(0, len(update_score)):\n",
    "    my_string = update_score['Result'].iloc[i]\n",
    "    value1, value2 = my_string.split(\"-\")\n",
    "    update_score.loc[i, ['True_Home_Score']] = value1\n",
    "    update_score.loc[i, ['True_Away_Score']] = value2\n"
   ]
  },
  {
   "cell_type": "code",
   "execution_count": null,
   "id": "0afc9e37",
   "metadata": {},
   "outputs": [],
   "source": [
    "update_score.dropna()\n"
   ]
  },
  {
   "cell_type": "code",
   "execution_count": null,
   "id": "37414527",
   "metadata": {},
   "outputs": [],
   "source": [
    "update_score['Round Number']= update_score['Round Number'].astype(int)\n",
    "update_score=update_score[update_score['Round Number'] >= 12]\n",
    "update_score=update_score[update_score['Round Number'] <= 15]\n",
    "update_score.reset_index(inplace = True, drop = True)\n",
    "update_score"
   ]
  },
  {
   "cell_type": "code",
   "execution_count": null,
   "id": "25a660f6",
   "metadata": {},
   "outputs": [],
   "source": [
    "for i in range(0, len(update_score)):\n",
    "    X_home, X_away =  create_X(update_score['Home Team'].iloc[i],update_score['Away Team'].iloc[i])\n",
    "    score_pmf = predict_score(X_home, X_away, poisson_model)\n",
    "    my_string = str(score_pmf)\n",
    "    value1, value2 = my_string.split(\",\")\n",
    "    update_score.loc[i, ['Predicted_Home_Score']] = value1\n",
    "    update_score.loc[i, ['Predicted_Away_Score']] = value2\n",
    "    print(score_pmf)"
   ]
  },
  {
   "cell_type": "code",
   "execution_count": null,
   "id": "5025aa35",
   "metadata": {},
   "outputs": [],
   "source": [
    "update_score"
   ]
  },
  {
   "cell_type": "code",
   "execution_count": null,
   "id": "0b0c0975",
   "metadata": {},
   "outputs": [],
   "source": []
  },
  {
   "cell_type": "code",
   "execution_count": null,
   "id": "0d4cd078",
   "metadata": {
    "scrolled": true
   },
   "outputs": [],
   "source": [
    "#we need numbers \n",
    "update_score['Predicted_Home_Score']=update_score.Predicted_Home_Score.str.strip('()')\n",
    "update_score['Predicted_Home_Score']=update_score['Predicted_Home_Score'].fillna(0)\n",
    "update_score['Predicted_Home_Score']= update_score['Predicted_Home_Score'].astype(int)\n",
    "update_score['Predicted_Away_Score']=update_score.Predicted_Away_Score.str.strip('()')\n",
    "update_score['Predicted_Away_Score']=update_score['Predicted_Away_Score'].fillna(0)\n",
    "update_score['Predicted_Away_Score']= update_score['Predicted_Away_Score'].astype(int)"
   ]
  },
  {
   "cell_type": "code",
   "execution_count": null,
   "id": "db570c41",
   "metadata": {},
   "outputs": [],
   "source": [
    "update_score=update_score.drop(update_score.index[3])"
   ]
  },
  {
   "cell_type": "code",
   "execution_count": null,
   "id": "e94fbab3",
   "metadata": {
    "scrolled": true
   },
   "outputs": [],
   "source": [
    "update_score = update_score[:34]"
   ]
  },
  {
   "cell_type": "code",
   "execution_count": null,
   "id": "59588c08",
   "metadata": {},
   "outputs": [],
   "source": [
    "update_score['True_Home_Score']= update_score['True_Home_Score'].astype(int)\n",
    "update_score['True_Away_Score']= update_score['True_Away_Score'].astype(int)\n",
    "update_score['Predicted_Home_Score']= update_score['Predicted_Home_Score'].astype(int)"
   ]
  },
  {
   "cell_type": "code",
   "execution_count": null,
   "id": "10efdf7e",
   "metadata": {
    "scrolled": true
   },
   "outputs": [],
   "source": [
    "update_score.head()"
   ]
  },
  {
   "cell_type": "code",
   "execution_count": null,
   "id": "1e87c1e9",
   "metadata": {},
   "outputs": [],
   "source": [
    "update_score.reset_index(inplace = True, drop = True)"
   ]
  },
  {
   "cell_type": "code",
   "execution_count": null,
   "id": "972ea285",
   "metadata": {},
   "outputs": [],
   "source": [
    "#add a prediction columns + real score \n",
    "# and compute the accuracy !!!!!!"
   ]
  },
  {
   "cell_type": "code",
   "execution_count": null,
   "id": "b5aae0d0",
   "metadata": {},
   "outputs": [],
   "source": [
    "def accuracy_competition(homepred,awaypred,truehome,trueaway):\n",
    "    a = 1-(((homepred-truehome)^2 + (awaypred-trueaway)^2 )/(1+homepred+awaypred+truehome+trueaway))\n",
    "    return a "
   ]
  },
  {
   "cell_type": "code",
   "execution_count": null,
   "id": "76d0e276",
   "metadata": {},
   "outputs": [],
   "source": [
    "for i in range(0, len(update_score)):\n",
    "    a = 1-(((update_score['Predicted_Home_Score'].loc[i]-update_score['True_Home_Score'].loc[i])^2 + (update_score['Predicted_Away_Score'].loc[i]-update_score['True_Away_Score'].loc[i])^2 )/(1+update_score['Predicted_Away_Score'].loc[i]+update_score['True_Away_Score'].loc[i]+update_score['Predicted_Home_Score'].loc[i]+update_score['True_Home_Score'].loc[i]))\n",
    "    update_score.loc[i, ['Accuracy']] = a"
   ]
  },
  {
   "cell_type": "code",
   "execution_count": null,
   "id": "1686c09f",
   "metadata": {},
   "outputs": [],
   "source": [
    "#my\n",
    "large5 = update_score.nlargest(10, \"Accuracy\")\n",
    "large5"
   ]
  },
  {
   "cell_type": "code",
   "execution_count": null,
   "id": "7f391ac5",
   "metadata": {},
   "outputs": [],
   "source": [
    "lowest10 = update_score.set_index('Home Team').groupby('Accuracy', as_index=False).idxmax()\n",
    "lowest10\n",
    "print(\"The top 3 : Highest predictions accuracy are for the home team\")\n",
    "print(lowest10.loc[15])\n",
    "print(lowest10.loc[14])\n",
    "print(lowest10.loc[13])"
   ]
  },
  {
   "cell_type": "code",
   "execution_count": null,
   "id": "97605d03",
   "metadata": {
    "scrolled": true
   },
   "outputs": [],
   "source": [
    "lowest10 = update_score.set_index('Away Team').groupby('Accuracy', as_index=False).idxmax()\n",
    "lowest10\n",
    "print(\"The top 3 : Highest predictions accuracy are for the away team\")\n",
    "print(lowest10.loc[15])\n",
    "print(lowest10.loc[14])\n",
    "print(lowest10.loc[13])"
   ]
  },
  {
   "cell_type": "code",
   "execution_count": null,
   "id": "d604d67f",
   "metadata": {},
   "outputs": [],
   "source": [
    "# for week 16 , we weight our prediction taking into the both top 3 \n",
    "#Nott'm Forest, Crystal Palace, Brighton, Liverpool, Wolves, Chelsea\n",
    "#we give each team who plays 15 weight"
   ]
  },
  {
   "cell_type": "code",
   "execution_count": null,
   "id": "3e42ba47",
   "metadata": {},
   "outputs": [],
   "source": [
    "calendar_week"
   ]
  },
  {
   "cell_type": "code",
   "execution_count": null,
   "id": "6f0f3294",
   "metadata": {},
   "outputs": [],
   "source": [
    "number_of_games = calendar_week.shape\n",
    "number_of_games[0]"
   ]
  }
 ],
 "metadata": {
  "kernelspec": {
   "display_name": "base",
   "language": "python",
   "name": "python3"
  },
  "language_info": {
   "codemirror_mode": {
    "name": "ipython",
    "version": 3
   },
   "file_extension": ".py",
   "mimetype": "text/x-python",
   "name": "python",
   "nbconvert_exporter": "python",
   "pygments_lexer": "ipython3",
   "version": "3.11.8"
  },
  "widgets": {
   "application/vnd.jupyter.widget-state+json": {
    "state": {},
    "version_major": 2,
    "version_minor": 0
   }
  }
 },
 "nbformat": 4,
 "nbformat_minor": 5
}
